{
 "cells": [
  {
   "cell_type": "code",
   "execution_count": 2,
   "id": "ba1012ed",
   "metadata": {},
   "outputs": [],
   "source": [
    "import pandas as pd\n",
    "import numpy as np\n",
    "import matplotlib.pyplot as plt\n",
    "import pylab\n",
    "import seaborn as sn\n",
    "casa=pd.read_excel(\"Casas usadas - RM Mayo 2020.xlsx\")\n",
    "casa1=casa.copy()\n",
    "for df in [\"N_Estacionamientos\",\"Superficie_Construida_M2\"]:\n",
    "    casa1[df]=pd.to_numeric(casa1[df],errors=\"coerce\")\n",
    "na1=casa1[\"N_Estacionamientos\"].fillna(0)\n",
    "na=casa1.fillna(1)\n",
    "na4=casa1[\"Total_Superficie_M2\"].fillna(168.000000)\n",
    "na5=casa1[\"Superficie_Construida_M2\"].fillna(100.000000)\n",
    "na2=casa1[\"N_Baños\"].fillna(1)\n",
    "na[\"N_Estacionamientos\"]=na1\n",
    "na[\"Total_Superficie_M2\"]=na4\n",
    "na[\"Superficie_Construida_M2\"]=na5\n",
    "na[\"N_Baños\"]=na2\n",
    "casa2=pd.DataFrame(na)"
   ]
  },
  {
   "cell_type": "code",
   "execution_count": 20,
   "id": "7deac3d4",
   "metadata": {},
   "outputs": [],
   "source": [
    "name =\"casaschile\"\n",
    "casa2.to_csv(name,index=False)"
   ]
  },
  {
   "cell_type": "code",
   "execution_count": 27,
   "id": "e965f511",
   "metadata": {},
   "outputs": [
    {
     "data": {
      "text/plain": [
       "139      1\n",
       "140     No\n",
       "141     No\n",
       "142     No\n",
       "143     No\n",
       "        ..\n",
       "1134    No\n",
       "1135    No\n",
       "1136    No\n",
       "1137    No\n",
       "1138    No\n",
       "Name: N_Estacionamientos, Length: 1000, dtype: object"
      ]
     },
     "execution_count": 27,
     "metadata": {},
     "output_type": "execute_result"
    }
   ],
   "source": [
    "casa[\"N_Estacionamientos\"].tail(1000)"
   ]
  },
  {
   "cell_type": "code",
   "execution_count": null,
   "id": "70a98d2d",
   "metadata": {},
   "outputs": [],
   "source": []
  },
  {
   "cell_type": "code",
   "execution_count": 35,
   "id": "0ced96a4",
   "metadata": {},
   "outputs": [
    {
     "data": {
      "text/plain": [
       "959     1.0\n",
       "960     0.0\n",
       "961     0.0\n",
       "962     8.0\n",
       "963     0.0\n",
       "       ... \n",
       "1134    0.0\n",
       "1135    0.0\n",
       "1136    0.0\n",
       "1137    0.0\n",
       "1138    0.0\n",
       "Name: N_Estacionamientos, Length: 180, dtype: float64"
      ]
     },
     "execution_count": 35,
     "metadata": {},
     "output_type": "execute_result"
    }
   ],
   "source": [
    "na[\"N_Estacionamientos\"].tail(180)"
   ]
  },
  {
   "cell_type": "code",
   "execution_count": null,
   "id": "9b4f54f9",
   "metadata": {},
   "outputs": [],
   "source": []
  }
 ],
 "metadata": {
  "kernelspec": {
   "display_name": "Python 3",
   "language": "python",
   "name": "python3"
  },
  "language_info": {
   "codemirror_mode": {
    "name": "ipython",
    "version": 3
   },
   "file_extension": ".py",
   "mimetype": "text/x-python",
   "name": "python",
   "nbconvert_exporter": "python",
   "pygments_lexer": "ipython3",
   "version": "3.8.8"
  }
 },
 "nbformat": 4,
 "nbformat_minor": 5
}
